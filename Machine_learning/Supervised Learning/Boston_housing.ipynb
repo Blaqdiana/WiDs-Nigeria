{
 "cells": [
  {
   "cell_type": "markdown",
   "metadata": {},
   "source": [
    "# Supervised Learning\n",
    "### Boston Housing Dataset"
   ]
  },
  {
   "cell_type": "code",
   "execution_count": 1,
   "metadata": {},
   "outputs": [],
   "source": [
    " # Import necessary libraries\n",
    "import numpy as np\n",
    "import pandas as pd\n",
    "from sklearn.model_selection import train_test_split\n",
    "from sklearn.preprocessing import StandardScaler\n",
    "from sklearn.linear_model import LinearRegression\n",
    "from sklearn.tree import DecisionTreeRegressor\n",
    "from sklearn import metrics\n",
    "from sklearn.model_selection import GridSearchCV"
   ]
  },
  {
   "cell_type": "markdown",
   "metadata": {},
   "source": [
    "##### Load the Boston dataset"
   ]
  },
  {
   "cell_type": "code",
   "execution_count": 2,
   "metadata": {},
   "outputs": [
    {
     "data": {
      "text/html": [
       "<div>\n",
       "<style scoped>\n",
       "    .dataframe tbody tr th:only-of-type {\n",
       "        vertical-align: middle;\n",
       "    }\n",
       "\n",
       "    .dataframe tbody tr th {\n",
       "        vertical-align: top;\n",
       "    }\n",
       "\n",
       "    .dataframe thead th {\n",
       "        text-align: right;\n",
       "    }\n",
       "</style>\n",
       "<table border=\"1\" class=\"dataframe\">\n",
       "  <thead>\n",
       "    <tr style=\"text-align: right;\">\n",
       "      <th></th>\n",
       "      <th>crim</th>\n",
       "      <th>zn</th>\n",
       "      <th>indus</th>\n",
       "      <th>chas</th>\n",
       "      <th>nox</th>\n",
       "      <th>rm</th>\n",
       "      <th>age</th>\n",
       "      <th>dis</th>\n",
       "      <th>rad</th>\n",
       "      <th>tax</th>\n",
       "      <th>ptratio</th>\n",
       "      <th>b</th>\n",
       "      <th>lstat</th>\n",
       "      <th>medv</th>\n",
       "    </tr>\n",
       "  </thead>\n",
       "  <tbody>\n",
       "    <tr>\n",
       "      <th>0</th>\n",
       "      <td>0.00632</td>\n",
       "      <td>18.0</td>\n",
       "      <td>2.31</td>\n",
       "      <td>0</td>\n",
       "      <td>0.538</td>\n",
       "      <td>6.575</td>\n",
       "      <td>65.2</td>\n",
       "      <td>4.0900</td>\n",
       "      <td>1</td>\n",
       "      <td>296</td>\n",
       "      <td>15.3</td>\n",
       "      <td>396.90</td>\n",
       "      <td>4.98</td>\n",
       "      <td>24.0</td>\n",
       "    </tr>\n",
       "    <tr>\n",
       "      <th>1</th>\n",
       "      <td>0.02731</td>\n",
       "      <td>0.0</td>\n",
       "      <td>7.07</td>\n",
       "      <td>0</td>\n",
       "      <td>0.469</td>\n",
       "      <td>6.421</td>\n",
       "      <td>78.9</td>\n",
       "      <td>4.9671</td>\n",
       "      <td>2</td>\n",
       "      <td>242</td>\n",
       "      <td>17.8</td>\n",
       "      <td>396.90</td>\n",
       "      <td>9.14</td>\n",
       "      <td>21.6</td>\n",
       "    </tr>\n",
       "    <tr>\n",
       "      <th>2</th>\n",
       "      <td>0.02729</td>\n",
       "      <td>0.0</td>\n",
       "      <td>7.07</td>\n",
       "      <td>0</td>\n",
       "      <td>0.469</td>\n",
       "      <td>7.185</td>\n",
       "      <td>61.1</td>\n",
       "      <td>4.9671</td>\n",
       "      <td>2</td>\n",
       "      <td>242</td>\n",
       "      <td>17.8</td>\n",
       "      <td>392.83</td>\n",
       "      <td>4.03</td>\n",
       "      <td>34.7</td>\n",
       "    </tr>\n",
       "    <tr>\n",
       "      <th>3</th>\n",
       "      <td>0.03237</td>\n",
       "      <td>0.0</td>\n",
       "      <td>2.18</td>\n",
       "      <td>0</td>\n",
       "      <td>0.458</td>\n",
       "      <td>6.998</td>\n",
       "      <td>45.8</td>\n",
       "      <td>6.0622</td>\n",
       "      <td>3</td>\n",
       "      <td>222</td>\n",
       "      <td>18.7</td>\n",
       "      <td>394.63</td>\n",
       "      <td>2.94</td>\n",
       "      <td>33.4</td>\n",
       "    </tr>\n",
       "    <tr>\n",
       "      <th>4</th>\n",
       "      <td>0.06905</td>\n",
       "      <td>0.0</td>\n",
       "      <td>2.18</td>\n",
       "      <td>0</td>\n",
       "      <td>0.458</td>\n",
       "      <td>7.147</td>\n",
       "      <td>54.2</td>\n",
       "      <td>6.0622</td>\n",
       "      <td>3</td>\n",
       "      <td>222</td>\n",
       "      <td>18.7</td>\n",
       "      <td>396.90</td>\n",
       "      <td>5.33</td>\n",
       "      <td>36.2</td>\n",
       "    </tr>\n",
       "  </tbody>\n",
       "</table>\n",
       "</div>"
      ],
      "text/plain": [
       "      crim    zn  indus  chas    nox     rm   age     dis  rad  tax  ptratio  \\\n",
       "0  0.00632  18.0   2.31     0  0.538  6.575  65.2  4.0900    1  296     15.3   \n",
       "1  0.02731   0.0   7.07     0  0.469  6.421  78.9  4.9671    2  242     17.8   \n",
       "2  0.02729   0.0   7.07     0  0.469  7.185  61.1  4.9671    2  242     17.8   \n",
       "3  0.03237   0.0   2.18     0  0.458  6.998  45.8  6.0622    3  222     18.7   \n",
       "4  0.06905   0.0   2.18     0  0.458  7.147  54.2  6.0622    3  222     18.7   \n",
       "\n",
       "        b  lstat  medv  \n",
       "0  396.90   4.98  24.0  \n",
       "1  396.90   9.14  21.6  \n",
       "2  392.83   4.03  34.7  \n",
       "3  394.63   2.94  33.4  \n",
       "4  396.90   5.33  36.2  "
      ]
     },
     "execution_count": 2,
     "metadata": {},
     "output_type": "execute_result"
    }
   ],
   "source": [
    "# Loading the dataset\n",
    "boston = pd.read_csv(\"BostonHousing.csv\")\n",
    "\n",
    "# Display the first 5 rows of the dataset\n",
    "boston.head()"
   ]
  },
  {
   "cell_type": "markdown",
   "metadata": {},
   "source": [
    "##### EDA"
   ]
  },
  {
   "cell_type": "code",
   "execution_count": 3,
   "metadata": {},
   "outputs": [
    {
     "name": "stdout",
     "output_type": "stream",
     "text": [
      "<class 'pandas.core.frame.DataFrame'>\n",
      "RangeIndex: 506 entries, 0 to 505\n",
      "Data columns (total 14 columns):\n",
      " #   Column   Non-Null Count  Dtype  \n",
      "---  ------   --------------  -----  \n",
      " 0   crim     506 non-null    float64\n",
      " 1   zn       506 non-null    float64\n",
      " 2   indus    506 non-null    float64\n",
      " 3   chas     506 non-null    int64  \n",
      " 4   nox      506 non-null    float64\n",
      " 5   rm       501 non-null    float64\n",
      " 6   age      506 non-null    float64\n",
      " 7   dis      506 non-null    float64\n",
      " 8   rad      506 non-null    int64  \n",
      " 9   tax      506 non-null    int64  \n",
      " 10  ptratio  506 non-null    float64\n",
      " 11  b        506 non-null    float64\n",
      " 12  lstat    506 non-null    float64\n",
      " 13  medv     506 non-null    float64\n",
      "dtypes: float64(11), int64(3)\n",
      "memory usage: 55.5 KB\n",
      "None\n"
     ]
    },
    {
     "data": {
      "text/plain": [
       "(506, 14)"
      ]
     },
     "execution_count": 3,
     "metadata": {},
     "output_type": "execute_result"
    }
   ],
   "source": [
    "# Show information about the dataset\n",
    "print(boston.info())\n",
    "\n",
    "# Display the shape/size of the dataset\n",
    "boston.shape"
   ]
  },
  {
   "cell_type": "code",
   "execution_count": 4,
   "metadata": {},
   "outputs": [
    {
     "name": "stdout",
     "output_type": "stream",
     "text": [
      "crim       0\n",
      "zn         0\n",
      "indus      0\n",
      "chas       0\n",
      "nox        0\n",
      "rm         5\n",
      "age        0\n",
      "dis        0\n",
      "rad        0\n",
      "tax        0\n",
      "ptratio    0\n",
      "b          0\n",
      "lstat      0\n",
      "medv       0\n",
      "dtype: int64\n",
      "crim       0\n",
      "zn         0\n",
      "indus      0\n",
      "chas       0\n",
      "nox        0\n",
      "rm         0\n",
      "age        0\n",
      "dis        0\n",
      "rad        0\n",
      "tax        0\n",
      "ptratio    0\n",
      "b          0\n",
      "lstat      0\n",
      "medv       0\n",
      "dtype: int64\n"
     ]
    },
    {
     "data": {
      "text/plain": [
       "(501, 14)"
      ]
     },
     "execution_count": 4,
     "metadata": {},
     "output_type": "execute_result"
    }
   ],
   "source": [
    "# Check for missing values\n",
    "print(boston.isna().sum())\n",
    "\n",
    "# Drop missing values\n",
    "boston.dropna(inplace=True)\n",
    "\n",
    "# Check if there is still any missing value\n",
    "print(boston.isna().sum())\n",
    "\n",
    "# Display the shape/size of the dataset\n",
    "boston.shape"
   ]
  },
  {
   "cell_type": "code",
   "execution_count": 5,
   "metadata": {},
   "outputs": [
    {
     "data": {
      "text/html": [
       "<div>\n",
       "<style scoped>\n",
       "    .dataframe tbody tr th:only-of-type {\n",
       "        vertical-align: middle;\n",
       "    }\n",
       "\n",
       "    .dataframe tbody tr th {\n",
       "        vertical-align: top;\n",
       "    }\n",
       "\n",
       "    .dataframe thead th {\n",
       "        text-align: right;\n",
       "    }\n",
       "</style>\n",
       "<table border=\"1\" class=\"dataframe\">\n",
       "  <thead>\n",
       "    <tr style=\"text-align: right;\">\n",
       "      <th></th>\n",
       "      <th>crim</th>\n",
       "      <th>zn</th>\n",
       "      <th>indus</th>\n",
       "      <th>chas</th>\n",
       "      <th>nox</th>\n",
       "      <th>rm</th>\n",
       "      <th>age</th>\n",
       "      <th>dis</th>\n",
       "      <th>rad</th>\n",
       "      <th>tax</th>\n",
       "      <th>ptratio</th>\n",
       "      <th>b</th>\n",
       "      <th>lstat</th>\n",
       "      <th>medv</th>\n",
       "    </tr>\n",
       "  </thead>\n",
       "  <tbody>\n",
       "    <tr>\n",
       "      <th>count</th>\n",
       "      <td>501.000000</td>\n",
       "      <td>501.000000</td>\n",
       "      <td>501.000000</td>\n",
       "      <td>501.000000</td>\n",
       "      <td>501.000000</td>\n",
       "      <td>501.000000</td>\n",
       "      <td>501.000000</td>\n",
       "      <td>501.000000</td>\n",
       "      <td>501.000000</td>\n",
       "      <td>501.000000</td>\n",
       "      <td>501.000000</td>\n",
       "      <td>501.000000</td>\n",
       "      <td>501.000000</td>\n",
       "      <td>501.000000</td>\n",
       "    </tr>\n",
       "    <tr>\n",
       "      <th>mean</th>\n",
       "      <td>3.647414</td>\n",
       "      <td>11.402196</td>\n",
       "      <td>11.160619</td>\n",
       "      <td>0.069860</td>\n",
       "      <td>0.555151</td>\n",
       "      <td>6.284341</td>\n",
       "      <td>68.513373</td>\n",
       "      <td>3.786423</td>\n",
       "      <td>9.596806</td>\n",
       "      <td>409.143713</td>\n",
       "      <td>18.453493</td>\n",
       "      <td>356.298523</td>\n",
       "      <td>12.643752</td>\n",
       "      <td>22.561277</td>\n",
       "    </tr>\n",
       "    <tr>\n",
       "      <th>std</th>\n",
       "      <td>8.637688</td>\n",
       "      <td>23.414214</td>\n",
       "      <td>6.857123</td>\n",
       "      <td>0.255166</td>\n",
       "      <td>0.116186</td>\n",
       "      <td>0.705587</td>\n",
       "      <td>28.212221</td>\n",
       "      <td>2.103327</td>\n",
       "      <td>8.735509</td>\n",
       "      <td>169.021216</td>\n",
       "      <td>2.166327</td>\n",
       "      <td>91.672055</td>\n",
       "      <td>7.162746</td>\n",
       "      <td>9.232435</td>\n",
       "    </tr>\n",
       "    <tr>\n",
       "      <th>min</th>\n",
       "      <td>0.006320</td>\n",
       "      <td>0.000000</td>\n",
       "      <td>0.460000</td>\n",
       "      <td>0.000000</td>\n",
       "      <td>0.385000</td>\n",
       "      <td>3.561000</td>\n",
       "      <td>2.900000</td>\n",
       "      <td>1.129600</td>\n",
       "      <td>1.000000</td>\n",
       "      <td>187.000000</td>\n",
       "      <td>12.600000</td>\n",
       "      <td>0.320000</td>\n",
       "      <td>1.730000</td>\n",
       "      <td>5.000000</td>\n",
       "    </tr>\n",
       "    <tr>\n",
       "      <th>25%</th>\n",
       "      <td>0.081990</td>\n",
       "      <td>0.000000</td>\n",
       "      <td>5.190000</td>\n",
       "      <td>0.000000</td>\n",
       "      <td>0.449000</td>\n",
       "      <td>5.884000</td>\n",
       "      <td>45.000000</td>\n",
       "      <td>2.088200</td>\n",
       "      <td>4.000000</td>\n",
       "      <td>279.000000</td>\n",
       "      <td>17.400000</td>\n",
       "      <td>375.210000</td>\n",
       "      <td>6.920000</td>\n",
       "      <td>17.000000</td>\n",
       "    </tr>\n",
       "    <tr>\n",
       "      <th>50%</th>\n",
       "      <td>0.261690</td>\n",
       "      <td>0.000000</td>\n",
       "      <td>9.690000</td>\n",
       "      <td>0.000000</td>\n",
       "      <td>0.538000</td>\n",
       "      <td>6.208000</td>\n",
       "      <td>77.700000</td>\n",
       "      <td>3.182700</td>\n",
       "      <td>5.000000</td>\n",
       "      <td>330.000000</td>\n",
       "      <td>19.000000</td>\n",
       "      <td>391.340000</td>\n",
       "      <td>11.380000</td>\n",
       "      <td>21.200000</td>\n",
       "    </tr>\n",
       "    <tr>\n",
       "      <th>75%</th>\n",
       "      <td>3.693110</td>\n",
       "      <td>12.500000</td>\n",
       "      <td>18.100000</td>\n",
       "      <td>0.000000</td>\n",
       "      <td>0.624000</td>\n",
       "      <td>6.625000</td>\n",
       "      <td>94.000000</td>\n",
       "      <td>5.118000</td>\n",
       "      <td>24.000000</td>\n",
       "      <td>666.000000</td>\n",
       "      <td>20.200000</td>\n",
       "      <td>396.230000</td>\n",
       "      <td>16.940000</td>\n",
       "      <td>25.000000</td>\n",
       "    </tr>\n",
       "    <tr>\n",
       "      <th>max</th>\n",
       "      <td>88.976200</td>\n",
       "      <td>100.000000</td>\n",
       "      <td>27.740000</td>\n",
       "      <td>1.000000</td>\n",
       "      <td>0.871000</td>\n",
       "      <td>8.780000</td>\n",
       "      <td>100.000000</td>\n",
       "      <td>12.126500</td>\n",
       "      <td>24.000000</td>\n",
       "      <td>711.000000</td>\n",
       "      <td>22.000000</td>\n",
       "      <td>396.900000</td>\n",
       "      <td>37.970000</td>\n",
       "      <td>50.000000</td>\n",
       "    </tr>\n",
       "  </tbody>\n",
       "</table>\n",
       "</div>"
      ],
      "text/plain": [
       "             crim          zn       indus        chas         nox          rm  \\\n",
       "count  501.000000  501.000000  501.000000  501.000000  501.000000  501.000000   \n",
       "mean     3.647414   11.402196   11.160619    0.069860    0.555151    6.284341   \n",
       "std      8.637688   23.414214    6.857123    0.255166    0.116186    0.705587   \n",
       "min      0.006320    0.000000    0.460000    0.000000    0.385000    3.561000   \n",
       "25%      0.081990    0.000000    5.190000    0.000000    0.449000    5.884000   \n",
       "50%      0.261690    0.000000    9.690000    0.000000    0.538000    6.208000   \n",
       "75%      3.693110   12.500000   18.100000    0.000000    0.624000    6.625000   \n",
       "max     88.976200  100.000000   27.740000    1.000000    0.871000    8.780000   \n",
       "\n",
       "              age         dis         rad         tax     ptratio           b  \\\n",
       "count  501.000000  501.000000  501.000000  501.000000  501.000000  501.000000   \n",
       "mean    68.513373    3.786423    9.596806  409.143713   18.453493  356.298523   \n",
       "std     28.212221    2.103327    8.735509  169.021216    2.166327   91.672055   \n",
       "min      2.900000    1.129600    1.000000  187.000000   12.600000    0.320000   \n",
       "25%     45.000000    2.088200    4.000000  279.000000   17.400000  375.210000   \n",
       "50%     77.700000    3.182700    5.000000  330.000000   19.000000  391.340000   \n",
       "75%     94.000000    5.118000   24.000000  666.000000   20.200000  396.230000   \n",
       "max    100.000000   12.126500   24.000000  711.000000   22.000000  396.900000   \n",
       "\n",
       "            lstat        medv  \n",
       "count  501.000000  501.000000  \n",
       "mean    12.643752   22.561277  \n",
       "std      7.162746    9.232435  \n",
       "min      1.730000    5.000000  \n",
       "25%      6.920000   17.000000  \n",
       "50%     11.380000   21.200000  \n",
       "75%     16.940000   25.000000  \n",
       "max     37.970000   50.000000  "
      ]
     },
     "execution_count": 5,
     "metadata": {},
     "output_type": "execute_result"
    }
   ],
   "source": [
    "# Display some descriptive statistics\n",
    "boston.describe()"
   ]
  },
  {
   "cell_type": "code",
   "execution_count": 6,
   "metadata": {},
   "outputs": [
    {
     "data": {
      "text/html": [
       "<div>\n",
       "<style scoped>\n",
       "    .dataframe tbody tr th:only-of-type {\n",
       "        vertical-align: middle;\n",
       "    }\n",
       "\n",
       "    .dataframe tbody tr th {\n",
       "        vertical-align: top;\n",
       "    }\n",
       "\n",
       "    .dataframe thead th {\n",
       "        text-align: right;\n",
       "    }\n",
       "</style>\n",
       "<table border=\"1\" class=\"dataframe\">\n",
       "  <thead>\n",
       "    <tr style=\"text-align: right;\">\n",
       "      <th></th>\n",
       "      <th>crim</th>\n",
       "      <th>zn</th>\n",
       "      <th>indus</th>\n",
       "      <th>chas</th>\n",
       "      <th>nox</th>\n",
       "      <th>rm</th>\n",
       "      <th>age</th>\n",
       "      <th>dis</th>\n",
       "      <th>rad</th>\n",
       "      <th>tax</th>\n",
       "      <th>ptratio</th>\n",
       "      <th>b</th>\n",
       "      <th>lstat</th>\n",
       "      <th>medv</th>\n",
       "    </tr>\n",
       "  </thead>\n",
       "  <tbody>\n",
       "    <tr>\n",
       "      <th>crim</th>\n",
       "      <td>1.000000</td>\n",
       "      <td>-0.201470</td>\n",
       "      <td>0.407544</td>\n",
       "      <td>-0.057032</td>\n",
       "      <td>0.420611</td>\n",
       "      <td>-0.219433</td>\n",
       "      <td>0.354739</td>\n",
       "      <td>-0.380572</td>\n",
       "      <td>0.624932</td>\n",
       "      <td>0.582243</td>\n",
       "      <td>0.291731</td>\n",
       "      <td>-0.384064</td>\n",
       "      <td>0.457304</td>\n",
       "      <td>-0.390251</td>\n",
       "    </tr>\n",
       "    <tr>\n",
       "      <th>zn</th>\n",
       "      <td>-0.201470</td>\n",
       "      <td>1.000000</td>\n",
       "      <td>-0.536624</td>\n",
       "      <td>-0.043209</td>\n",
       "      <td>-0.518108</td>\n",
       "      <td>0.311173</td>\n",
       "      <td>-0.569695</td>\n",
       "      <td>0.665634</td>\n",
       "      <td>-0.314530</td>\n",
       "      <td>-0.315991</td>\n",
       "      <td>-0.392956</td>\n",
       "      <td>0.176529</td>\n",
       "      <td>-0.413820</td>\n",
       "      <td>0.360031</td>\n",
       "    </tr>\n",
       "    <tr>\n",
       "      <th>indus</th>\n",
       "      <td>0.407544</td>\n",
       "      <td>-0.536624</td>\n",
       "      <td>1.000000</td>\n",
       "      <td>0.062351</td>\n",
       "      <td>0.762937</td>\n",
       "      <td>-0.394193</td>\n",
       "      <td>0.646157</td>\n",
       "      <td>-0.709741</td>\n",
       "      <td>0.597721</td>\n",
       "      <td>0.720800</td>\n",
       "      <td>0.382633</td>\n",
       "      <td>-0.357817</td>\n",
       "      <td>0.605595</td>\n",
       "      <td>-0.486625</td>\n",
       "    </tr>\n",
       "    <tr>\n",
       "      <th>chas</th>\n",
       "      <td>-0.057032</td>\n",
       "      <td>-0.043209</td>\n",
       "      <td>0.062351</td>\n",
       "      <td>1.000000</td>\n",
       "      <td>0.090371</td>\n",
       "      <td>0.091468</td>\n",
       "      <td>0.087384</td>\n",
       "      <td>-0.098696</td>\n",
       "      <td>-0.008872</td>\n",
       "      <td>-0.037146</td>\n",
       "      <td>-0.121830</td>\n",
       "      <td>0.049972</td>\n",
       "      <td>-0.053698</td>\n",
       "      <td>0.174679</td>\n",
       "    </tr>\n",
       "    <tr>\n",
       "      <th>nox</th>\n",
       "      <td>0.420611</td>\n",
       "      <td>-0.518108</td>\n",
       "      <td>0.762937</td>\n",
       "      <td>0.090371</td>\n",
       "      <td>1.000000</td>\n",
       "      <td>-0.302751</td>\n",
       "      <td>0.732899</td>\n",
       "      <td>-0.771108</td>\n",
       "      <td>0.611942</td>\n",
       "      <td>0.666959</td>\n",
       "      <td>0.188830</td>\n",
       "      <td>-0.379640</td>\n",
       "      <td>0.591749</td>\n",
       "      <td>-0.428812</td>\n",
       "    </tr>\n",
       "    <tr>\n",
       "      <th>rm</th>\n",
       "      <td>-0.219433</td>\n",
       "      <td>0.311173</td>\n",
       "      <td>-0.394193</td>\n",
       "      <td>0.091468</td>\n",
       "      <td>-0.302751</td>\n",
       "      <td>1.000000</td>\n",
       "      <td>-0.240286</td>\n",
       "      <td>0.203507</td>\n",
       "      <td>-0.210718</td>\n",
       "      <td>-0.292794</td>\n",
       "      <td>-0.357612</td>\n",
       "      <td>0.128107</td>\n",
       "      <td>-0.615721</td>\n",
       "      <td>0.696169</td>\n",
       "    </tr>\n",
       "    <tr>\n",
       "      <th>age</th>\n",
       "      <td>0.354739</td>\n",
       "      <td>-0.569695</td>\n",
       "      <td>0.646157</td>\n",
       "      <td>0.087384</td>\n",
       "      <td>0.732899</td>\n",
       "      <td>-0.240286</td>\n",
       "      <td>1.000000</td>\n",
       "      <td>-0.751500</td>\n",
       "      <td>0.460090</td>\n",
       "      <td>0.508338</td>\n",
       "      <td>0.264496</td>\n",
       "      <td>-0.275366</td>\n",
       "      <td>0.601124</td>\n",
       "      <td>-0.375437</td>\n",
       "    </tr>\n",
       "    <tr>\n",
       "      <th>dis</th>\n",
       "      <td>-0.380572</td>\n",
       "      <td>0.665634</td>\n",
       "      <td>-0.709741</td>\n",
       "      <td>-0.098696</td>\n",
       "      <td>-0.771108</td>\n",
       "      <td>0.203507</td>\n",
       "      <td>-0.751500</td>\n",
       "      <td>1.000000</td>\n",
       "      <td>-0.497970</td>\n",
       "      <td>-0.534763</td>\n",
       "      <td>-0.231444</td>\n",
       "      <td>0.291847</td>\n",
       "      <td>-0.501168</td>\n",
       "      <td>0.251709</td>\n",
       "    </tr>\n",
       "    <tr>\n",
       "      <th>rad</th>\n",
       "      <td>0.624932</td>\n",
       "      <td>-0.314530</td>\n",
       "      <td>0.597721</td>\n",
       "      <td>-0.008872</td>\n",
       "      <td>0.611942</td>\n",
       "      <td>-0.210718</td>\n",
       "      <td>0.460090</td>\n",
       "      <td>-0.497970</td>\n",
       "      <td>1.000000</td>\n",
       "      <td>0.910911</td>\n",
       "      <td>0.467820</td>\n",
       "      <td>-0.443338</td>\n",
       "      <td>0.491477</td>\n",
       "      <td>-0.384730</td>\n",
       "    </tr>\n",
       "    <tr>\n",
       "      <th>tax</th>\n",
       "      <td>0.582243</td>\n",
       "      <td>-0.315991</td>\n",
       "      <td>0.720800</td>\n",
       "      <td>-0.037146</td>\n",
       "      <td>0.666959</td>\n",
       "      <td>-0.292794</td>\n",
       "      <td>0.508338</td>\n",
       "      <td>-0.534763</td>\n",
       "      <td>0.910911</td>\n",
       "      <td>1.000000</td>\n",
       "      <td>0.462718</td>\n",
       "      <td>-0.440891</td>\n",
       "      <td>0.545687</td>\n",
       "      <td>-0.471253</td>\n",
       "    </tr>\n",
       "    <tr>\n",
       "      <th>ptratio</th>\n",
       "      <td>0.291731</td>\n",
       "      <td>-0.392956</td>\n",
       "      <td>0.382633</td>\n",
       "      <td>-0.121830</td>\n",
       "      <td>0.188830</td>\n",
       "      <td>-0.357612</td>\n",
       "      <td>0.264496</td>\n",
       "      <td>-0.231444</td>\n",
       "      <td>0.467820</td>\n",
       "      <td>0.462718</td>\n",
       "      <td>1.000000</td>\n",
       "      <td>-0.178813</td>\n",
       "      <td>0.378862</td>\n",
       "      <td>-0.511897</td>\n",
       "    </tr>\n",
       "    <tr>\n",
       "      <th>b</th>\n",
       "      <td>-0.384064</td>\n",
       "      <td>0.176529</td>\n",
       "      <td>-0.357817</td>\n",
       "      <td>0.049972</td>\n",
       "      <td>-0.379640</td>\n",
       "      <td>0.128107</td>\n",
       "      <td>-0.275366</td>\n",
       "      <td>0.291847</td>\n",
       "      <td>-0.443338</td>\n",
       "      <td>-0.440891</td>\n",
       "      <td>-0.178813</td>\n",
       "      <td>1.000000</td>\n",
       "      <td>-0.367588</td>\n",
       "      <td>0.335387</td>\n",
       "    </tr>\n",
       "    <tr>\n",
       "      <th>lstat</th>\n",
       "      <td>0.457304</td>\n",
       "      <td>-0.413820</td>\n",
       "      <td>0.605595</td>\n",
       "      <td>-0.053698</td>\n",
       "      <td>0.591749</td>\n",
       "      <td>-0.615721</td>\n",
       "      <td>0.601124</td>\n",
       "      <td>-0.501168</td>\n",
       "      <td>0.491477</td>\n",
       "      <td>0.545687</td>\n",
       "      <td>0.378862</td>\n",
       "      <td>-0.367588</td>\n",
       "      <td>1.000000</td>\n",
       "      <td>-0.737720</td>\n",
       "    </tr>\n",
       "    <tr>\n",
       "      <th>medv</th>\n",
       "      <td>-0.390251</td>\n",
       "      <td>0.360031</td>\n",
       "      <td>-0.486625</td>\n",
       "      <td>0.174679</td>\n",
       "      <td>-0.428812</td>\n",
       "      <td>0.696169</td>\n",
       "      <td>-0.375437</td>\n",
       "      <td>0.251709</td>\n",
       "      <td>-0.384730</td>\n",
       "      <td>-0.471253</td>\n",
       "      <td>-0.511897</td>\n",
       "      <td>0.335387</td>\n",
       "      <td>-0.737720</td>\n",
       "      <td>1.000000</td>\n",
       "    </tr>\n",
       "  </tbody>\n",
       "</table>\n",
       "</div>"
      ],
      "text/plain": [
       "             crim        zn     indus      chas       nox        rm       age  \\\n",
       "crim     1.000000 -0.201470  0.407544 -0.057032  0.420611 -0.219433  0.354739   \n",
       "zn      -0.201470  1.000000 -0.536624 -0.043209 -0.518108  0.311173 -0.569695   \n",
       "indus    0.407544 -0.536624  1.000000  0.062351  0.762937 -0.394193  0.646157   \n",
       "chas    -0.057032 -0.043209  0.062351  1.000000  0.090371  0.091468  0.087384   \n",
       "nox      0.420611 -0.518108  0.762937  0.090371  1.000000 -0.302751  0.732899   \n",
       "rm      -0.219433  0.311173 -0.394193  0.091468 -0.302751  1.000000 -0.240286   \n",
       "age      0.354739 -0.569695  0.646157  0.087384  0.732899 -0.240286  1.000000   \n",
       "dis     -0.380572  0.665634 -0.709741 -0.098696 -0.771108  0.203507 -0.751500   \n",
       "rad      0.624932 -0.314530  0.597721 -0.008872  0.611942 -0.210718  0.460090   \n",
       "tax      0.582243 -0.315991  0.720800 -0.037146  0.666959 -0.292794  0.508338   \n",
       "ptratio  0.291731 -0.392956  0.382633 -0.121830  0.188830 -0.357612  0.264496   \n",
       "b       -0.384064  0.176529 -0.357817  0.049972 -0.379640  0.128107 -0.275366   \n",
       "lstat    0.457304 -0.413820  0.605595 -0.053698  0.591749 -0.615721  0.601124   \n",
       "medv    -0.390251  0.360031 -0.486625  0.174679 -0.428812  0.696169 -0.375437   \n",
       "\n",
       "              dis       rad       tax   ptratio         b     lstat      medv  \n",
       "crim    -0.380572  0.624932  0.582243  0.291731 -0.384064  0.457304 -0.390251  \n",
       "zn       0.665634 -0.314530 -0.315991 -0.392956  0.176529 -0.413820  0.360031  \n",
       "indus   -0.709741  0.597721  0.720800  0.382633 -0.357817  0.605595 -0.486625  \n",
       "chas    -0.098696 -0.008872 -0.037146 -0.121830  0.049972 -0.053698  0.174679  \n",
       "nox     -0.771108  0.611942  0.666959  0.188830 -0.379640  0.591749 -0.428812  \n",
       "rm       0.203507 -0.210718 -0.292794 -0.357612  0.128107 -0.615721  0.696169  \n",
       "age     -0.751500  0.460090  0.508338  0.264496 -0.275366  0.601124 -0.375437  \n",
       "dis      1.000000 -0.497970 -0.534763 -0.231444  0.291847 -0.501168  0.251709  \n",
       "rad     -0.497970  1.000000  0.910911  0.467820 -0.443338  0.491477 -0.384730  \n",
       "tax     -0.534763  0.910911  1.000000  0.462718 -0.440891  0.545687 -0.471253  \n",
       "ptratio -0.231444  0.467820  0.462718  1.000000 -0.178813  0.378862 -0.511897  \n",
       "b        0.291847 -0.443338 -0.440891 -0.178813  1.000000 -0.367588  0.335387  \n",
       "lstat   -0.501168  0.491477  0.545687  0.378862 -0.367588  1.000000 -0.737720  \n",
       "medv     0.251709 -0.384730 -0.471253 -0.511897  0.335387 -0.737720  1.000000  "
      ]
     },
     "execution_count": 6,
     "metadata": {},
     "output_type": "execute_result"
    }
   ],
   "source": [
    "# Calculating the correlation matrix for features in the Boston Housing dataset.\n",
    "correlation = boston.corr()\n",
    "correlation"
   ]
  },
  {
   "cell_type": "markdown",
   "metadata": {},
   "source": [
    "##### Features and Target Variable"
   ]
  },
  {
   "cell_type": "code",
   "execution_count": 7,
   "metadata": {},
   "outputs": [],
   "source": [
    "# Identify features and target variable\n",
    "features_x = boston.drop('medv', axis=1)\n",
    "target_y = boston['medv']"
   ]
  },
  {
   "cell_type": "markdown",
   "metadata": {},
   "source": [
    "##### Splitting Dataset into Training and testing sets"
   ]
  },
  {
   "cell_type": "code",
   "execution_count": 8,
   "metadata": {},
   "outputs": [
    {
     "name": "stdout",
     "output_type": "stream",
     "text": [
      "Index(['crim', 'zn', 'indus', 'chas', 'nox', 'rm', 'age', 'dis', 'rad', 'tax',\n",
      "       'ptratio', 'b', 'lstat'],\n",
      "      dtype='object')\n"
     ]
    }
   ],
   "source": [
    "# Split the dataset into training and testing sets\n",
    "X_train, X_test, y_train, y_test = train_test_split(features_x, target_y, test_size=0.2, random_state=42)\n",
    "\n",
    "column_names = X_train.columns\n",
    "print(column_names)\n",
    "\n",
    "#Standardize the dataset\n",
    "scaler=StandardScaler()\n",
    "X_train=scaler.fit_transform(X_train)\n",
    "X_test=scaler.transform(X_test)\n"
   ]
  },
  {
   "cell_type": "markdown",
   "metadata": {},
   "source": [
    "##### Linear Regression"
   ]
  },
  {
   "cell_type": "code",
   "execution_count": 9,
   "metadata": {},
   "outputs": [
    {
     "data": {
      "text/plain": [
       "array([10.18296392, 22.90028638, 15.7250715 , 32.8687425 , 23.06305477,\n",
       "       11.7105764 , 12.82823273, 19.68402832, 21.37844603, 11.6664091 ,\n",
       "       18.68922207, 30.07985757, -1.00929105, 25.84534881,  2.71769491,\n",
       "        8.42105272, 24.20065448, 18.58158855, 25.35750486, -6.4156406 ,\n",
       "       13.40087749, 19.1553702 , 26.97331835, 19.7365225 , 22.34723932,\n",
       "       16.49474319, 28.88299512, 25.84032247, 18.44473853, 21.44179917,\n",
       "       20.47924119, 30.65762986, 18.03142754, 31.7042724 , 31.32197253,\n",
       "       22.39925592,  7.89877816, 23.82379177,  8.79518229, 24.80967266,\n",
       "       13.11828624, 36.50280369, 14.21716209, 30.64314489, 13.08150701,\n",
       "       28.62892717, 30.41900005, 20.22002346, 18.50467142, 13.74969166,\n",
       "       24.00007979, 33.05373811, 16.31792202, 11.83136693, 34.38516527,\n",
       "       33.21409913, 17.58969598, 18.73951491, 15.77944095, 27.36843691,\n",
       "       20.56962491, 41.00811461, 20.7069354 ,  7.90355031, 26.05404575,\n",
       "       28.09290827, 11.99510305,  7.63645472, 27.23768211, 16.49955956,\n",
       "       23.31864783, 14.72891378, 40.15780832, 28.66567671, 23.21450156,\n",
       "       23.90785079, 35.44266626, 24.54286797, 20.92244781, 16.20464352,\n",
       "       27.10551186, 28.05804536, 21.24485679, 29.42388279, 24.09473709,\n",
       "       29.13694094, 24.36213082, 20.18798792, 18.22001799, 44.02505925,\n",
       "        4.72824262, 19.37155457, 17.39854952, 23.98326371,  7.423096  ,\n",
       "       17.01009331, 31.2644547 , 21.14782841, 11.04927818, 21.00359681,\n",
       "       23.97163314])"
      ]
     },
     "execution_count": 9,
     "metadata": {},
     "output_type": "execute_result"
    }
   ],
   "source": [
    "# Use Linear Regression to predict the house prices\n",
    "linear_r = LinearRegression()\n",
    "linear_r.fit(X_train, y_train)\n",
    "y_pred_test = linear_r.predict(X_test)\n",
    "y_pred_test"
   ]
  },
  {
   "cell_type": "code",
   "execution_count": 10,
   "metadata": {},
   "outputs": [
    {
     "name": "stdout",
     "output_type": "stream",
     "text": [
      "22.90349999999999\n"
     ]
    },
    {
     "data": {
      "text/html": [
       "<div>\n",
       "<style scoped>\n",
       "    .dataframe tbody tr th:only-of-type {\n",
       "        vertical-align: middle;\n",
       "    }\n",
       "\n",
       "    .dataframe tbody tr th {\n",
       "        vertical-align: top;\n",
       "    }\n",
       "\n",
       "    .dataframe thead th {\n",
       "        text-align: right;\n",
       "    }\n",
       "</style>\n",
       "<table border=\"1\" class=\"dataframe\">\n",
       "  <thead>\n",
       "    <tr style=\"text-align: right;\">\n",
       "      <th></th>\n",
       "      <th>Attribute</th>\n",
       "      <th>Coefficients</th>\n",
       "    </tr>\n",
       "  </thead>\n",
       "  <tbody>\n",
       "    <tr>\n",
       "      <th>0</th>\n",
       "      <td>crim</td>\n",
       "      <td>-0.770699</td>\n",
       "    </tr>\n",
       "    <tr>\n",
       "      <th>1</th>\n",
       "      <td>zn</td>\n",
       "      <td>1.030715</td>\n",
       "    </tr>\n",
       "    <tr>\n",
       "      <th>2</th>\n",
       "      <td>indus</td>\n",
       "      <td>0.279132</td>\n",
       "    </tr>\n",
       "    <tr>\n",
       "      <th>3</th>\n",
       "      <td>chas</td>\n",
       "      <td>0.564479</td>\n",
       "    </tr>\n",
       "    <tr>\n",
       "      <th>4</th>\n",
       "      <td>nox</td>\n",
       "      <td>-1.680296</td>\n",
       "    </tr>\n",
       "    <tr>\n",
       "      <th>5</th>\n",
       "      <td>rm</td>\n",
       "      <td>2.822766</td>\n",
       "    </tr>\n",
       "    <tr>\n",
       "      <th>6</th>\n",
       "      <td>age</td>\n",
       "      <td>0.272202</td>\n",
       "    </tr>\n",
       "    <tr>\n",
       "      <th>7</th>\n",
       "      <td>dis</td>\n",
       "      <td>-2.887709</td>\n",
       "    </tr>\n",
       "    <tr>\n",
       "      <th>8</th>\n",
       "      <td>rad</td>\n",
       "      <td>2.548154</td>\n",
       "    </tr>\n",
       "    <tr>\n",
       "      <th>9</th>\n",
       "      <td>tax</td>\n",
       "      <td>-2.038334</td>\n",
       "    </tr>\n",
       "    <tr>\n",
       "      <th>10</th>\n",
       "      <td>ptratio</td>\n",
       "      <td>-1.895089</td>\n",
       "    </tr>\n",
       "    <tr>\n",
       "      <th>11</th>\n",
       "      <td>b</td>\n",
       "      <td>1.132669</td>\n",
       "    </tr>\n",
       "    <tr>\n",
       "      <th>12</th>\n",
       "      <td>lstat</td>\n",
       "      <td>-4.235755</td>\n",
       "    </tr>\n",
       "  </tbody>\n",
       "</table>\n",
       "</div>"
      ],
      "text/plain": [
       "   Attribute Coefficients\n",
       "0       crim    -0.770699\n",
       "1         zn     1.030715\n",
       "2      indus     0.279132\n",
       "3       chas     0.564479\n",
       "4        nox    -1.680296\n",
       "5         rm     2.822766\n",
       "6        age     0.272202\n",
       "7        dis    -2.887709\n",
       "8        rad     2.548154\n",
       "9        tax    -2.038334\n",
       "10   ptratio    -1.895089\n",
       "11         b     1.132669\n",
       "12     lstat    -4.235755"
      ]
     },
     "execution_count": 10,
     "metadata": {},
     "output_type": "execute_result"
    }
   ],
   "source": [
    "# y intercept\n",
    "print(linear_r.intercept_)\n",
    "\n",
    "# Converting the coefficient values to a dataframe\n",
    "coeffcients = pd.DataFrame([column_names,linear_r.coef_]).T\n",
    "coeffcients = coeffcients.rename(columns={0: 'Attribute', 1: 'Coefficients'})\n",
    "coeffcients"
   ]
  },
  {
   "cell_type": "markdown",
   "metadata": {},
   "source": [
    "##### Model Evaluation"
   ]
  },
  {
   "cell_type": "code",
   "execution_count": 11,
   "metadata": {},
   "outputs": [
    {
     "name": "stdout",
     "output_type": "stream",
     "text": [
      "Linear Regression RMSE:  4.775615313858017\n",
      "Linear Regression R-squared:  0.7387829862692457\n"
     ]
    }
   ],
   "source": [
    "# Model prediction on train data\n",
    "y_pred_train = linear_r.predict(X_train)\n",
    "\n",
    "# Evaluate the performance of the train models\n",
    "print(\"Linear Regression RMSE: \", np.sqrt(metrics.mean_squared_error(y_train, y_pred_train)))\n",
    "print(\"Linear Regression R-squared: \", metrics.r2_score(y_train, y_pred_train))"
   ]
  },
  {
   "cell_type": "markdown",
   "metadata": {},
   "source": [
    "<strong>Linear Regression RMSE (Root Mean Squared Error): 4.776 </strong>  \n",
    "This value represents the square root of the average squared difference between the predicted and actual values in the training set. Lower RMSE values indicate better model performance.\n",
    "\n",
    "<strong>Linear Regression R-squared: 0.739</strong>  \n",
    "R-squared, or the coefficient of determination, is a measure of how well the linear regression model explains the variability in the target variable. A value of 0.739 indicates that about 73.9% of the variance in the target variable is explained by the model."
   ]
  },
  {
   "cell_type": "code",
   "execution_count": 12,
   "metadata": {},
   "outputs": [
    {
     "name": "stdout",
     "output_type": "stream",
     "text": [
      "Linear Regression RMSE:  4.548375586189922\n",
      "Linear Regression R-squared:  0.7200277678580311\n"
     ]
    }
   ],
   "source": [
    "# Evaluate the performance of the test models\n",
    "print(\"Linear Regression RMSE: \", np.sqrt(metrics.mean_squared_error(y_test, y_pred_test)))\n",
    "print(\"Linear Regression R-squared: \", metrics.r2_score(y_test, y_pred_test))"
   ]
  },
  {
   "cell_type": "markdown",
   "metadata": {},
   "source": [
    "<strong>Linear Regression RMSE: 4.548</strong>  \n",
    "This is the root mean squared error on the testing set. It measures the average difference between the predicted and actual values on the test data. A lower RMSE indicates better model performance.\n",
    "\n",
    "<strong>Linear Regression R-squared: 0.720</strong>  \n",
    "The R-squared value on the testing set is approximately 0.720, indicating that the model explains about 72.0% of the variance in the target variable on the test data."
   ]
  },
  {
   "cell_type": "markdown",
   "metadata": {},
   "source": [
    "### Linear Regression Conclusion\n",
    "- The model evaluations scores of the test data are almost matching with that of train data and generalizes well to unseen data., so there is no case of model overfitting.\n",
    "- The RMSE values, while not extremely low, indicate a moderate level of accuracy in predicting housing prices. The model is able to make predictions with an average error of around 4.548 to 4.776 units of the target variable.\n",
    "- The R-squared values indicate that the linear regression model captures a substantial portion of the variability in the target variable.\n"
   ]
  },
  {
   "cell_type": "markdown",
   "metadata": {},
   "source": [
    "##### Decision Tree"
   ]
  },
  {
   "cell_type": "code",
   "execution_count": 13,
   "metadata": {},
   "outputs": [
    {
     "data": {
      "text/plain": [
       "array([19.6, 24.3, 15. , 25. , 19.6,  9.7,  9.5, 17.1, 24.3, 15.2, 21.5,\n",
       "       29.6, 17.2, 21.6, 17.3, 10.2, 28.7, 18.2, 23.8, 10.4, 22.5, 18.7,\n",
       "       20.1, 21.4, 21. , 13.3, 23.6, 22.7, 20.4, 18.7, 50. , 32.2, 15.2,\n",
       "       26.5, 33. , 21.1, 10.2, 24.7, 22.5, 20. , 11.5, 39.8, 17.3, 29. ,\n",
       "       13.1, 22.8, 35.1, 18.8, 13.8, 12.5, 21. , 28.4, 16.2,  9.5, 32.2,\n",
       "       30.1, 15.6, 18.7, 19.3, 23.9, 21.2, 43.1, 19.8, 17.8, 23.8, 31.2,\n",
       "       14.1, 16.5, 23.7, 11.3, 20.1, 24.3, 41.7, 23.9, 22.9, 21. , 45.4,\n",
       "       22.1, 14.3, 22.5, 24.7, 27.1, 19.9, 25. , 25. , 25. , 26.4, 13. ,\n",
       "       22.5, 42.3,  7.2, 14.1, 12.6, 24.7, 10.2, 22.9, 33.2, 21. , 10.2,\n",
       "       22.1, 22.9])"
      ]
     },
     "execution_count": 13,
     "metadata": {},
     "output_type": "execute_result"
    }
   ],
   "source": [
    "# Use Decision Tree to predict the house prices\n",
    "decision_t = DecisionTreeRegressor(random_state=42)\n",
    "decision_t.fit(X_train, y_train)\n",
    "y_pred_decision_test = decision_t.predict(X_test)\n",
    "y_pred_decision_test"
   ]
  },
  {
   "cell_type": "code",
   "execution_count": 14,
   "metadata": {},
   "outputs": [
    {
     "name": "stdout",
     "output_type": "stream",
     "text": [
      "Decision Tree RMSE:  0.0\n",
      "Decision Tree R-squared:  1.0\n"
     ]
    }
   ],
   "source": [
    "# Model prediction on train data\n",
    "y_pred_decision_train = decision_t.predict(X_train)\n",
    "\n",
    "# Evaluate the performance of the train models\n",
    "print(\"Decision Tree RMSE: \", np.sqrt(metrics.mean_squared_error(y_train, y_pred_decision_train)))\n",
    "print(\"Decision Tree R-squared: \", metrics.r2_score(y_train, y_pred_decision_train))"
   ]
  },
  {
   "cell_type": "code",
   "execution_count": 15,
   "metadata": {},
   "outputs": [
    {
     "name": "stdout",
     "output_type": "stream",
     "text": [
      "Decision Tree RMSE:  4.131058407279717\n",
      "Decision Tree R-squared:  0.7690462645279531\n"
     ]
    }
   ],
   "source": [
    "# Evaluate the performance of the test models\n",
    "print(\"Decision Tree RMSE: \", np.sqrt(metrics.mean_squared_error(y_test, y_pred_decision_test)))\n",
    "print(\"Decision Tree R-squared: \", metrics.r2_score(y_test, y_pred_decision_test))"
   ]
  },
  {
   "cell_type": "markdown",
   "metadata": {},
   "source": [
    "### Decision Tree Conclusion\n",
    "The Decision Tree model appears to perform exceptionally well on the training data (possibly overfitting), but its performance on the testing data is also reasonably good, indicating generalization to new, unseen data.\n",
    "\n",
    "However, to remove the thought of a likely case of overfitting <strong>hyperparameter tuning</strong> can be Performed to find the optimal parameters for the decision tree model. This can involve adjusting parameters like max_depth, min_samples_split, and min_samples_leaf to avoid overfitting and improve generalization."
   ]
  },
  {
   "cell_type": "markdown",
   "metadata": {},
   "source": [
    "### Improving the Decision Tree Model with Hyperparameter Tuning"
   ]
  },
  {
   "cell_type": "code",
   "execution_count": 16,
   "metadata": {},
   "outputs": [],
   "source": [
    "# Importing necessary libraries\n",
    "from sklearn.model_selection import GridSearchCV"
   ]
  },
  {
   "cell_type": "code",
   "execution_count": 17,
   "metadata": {},
   "outputs": [],
   "source": [
    "# Define hyperparameters to search\n",
    "param_grid = {'max_depth': [None, 5, 10, 15], 'min_samples_split': [2, 5, 10], 'min_samples_leaf': [1, 2, 4]}"
   ]
  },
  {
   "cell_type": "code",
   "execution_count": 18,
   "metadata": {},
   "outputs": [
    {
     "data": {
      "text/html": [
       "<style>#sk-container-id-1 {color: black;}#sk-container-id-1 pre{padding: 0;}#sk-container-id-1 div.sk-toggleable {background-color: white;}#sk-container-id-1 label.sk-toggleable__label {cursor: pointer;display: block;width: 100%;margin-bottom: 0;padding: 0.3em;box-sizing: border-box;text-align: center;}#sk-container-id-1 label.sk-toggleable__label-arrow:before {content: \"▸\";float: left;margin-right: 0.25em;color: #696969;}#sk-container-id-1 label.sk-toggleable__label-arrow:hover:before {color: black;}#sk-container-id-1 div.sk-estimator:hover label.sk-toggleable__label-arrow:before {color: black;}#sk-container-id-1 div.sk-toggleable__content {max-height: 0;max-width: 0;overflow: hidden;text-align: left;background-color: #f0f8ff;}#sk-container-id-1 div.sk-toggleable__content pre {margin: 0.2em;color: black;border-radius: 0.25em;background-color: #f0f8ff;}#sk-container-id-1 input.sk-toggleable__control:checked~div.sk-toggleable__content {max-height: 200px;max-width: 100%;overflow: auto;}#sk-container-id-1 input.sk-toggleable__control:checked~label.sk-toggleable__label-arrow:before {content: \"▾\";}#sk-container-id-1 div.sk-estimator input.sk-toggleable__control:checked~label.sk-toggleable__label {background-color: #d4ebff;}#sk-container-id-1 div.sk-label input.sk-toggleable__control:checked~label.sk-toggleable__label {background-color: #d4ebff;}#sk-container-id-1 input.sk-hidden--visually {border: 0;clip: rect(1px 1px 1px 1px);clip: rect(1px, 1px, 1px, 1px);height: 1px;margin: -1px;overflow: hidden;padding: 0;position: absolute;width: 1px;}#sk-container-id-1 div.sk-estimator {font-family: monospace;background-color: #f0f8ff;border: 1px dotted black;border-radius: 0.25em;box-sizing: border-box;margin-bottom: 0.5em;}#sk-container-id-1 div.sk-estimator:hover {background-color: #d4ebff;}#sk-container-id-1 div.sk-parallel-item::after {content: \"\";width: 100%;border-bottom: 1px solid gray;flex-grow: 1;}#sk-container-id-1 div.sk-label:hover label.sk-toggleable__label {background-color: #d4ebff;}#sk-container-id-1 div.sk-serial::before {content: \"\";position: absolute;border-left: 1px solid gray;box-sizing: border-box;top: 0;bottom: 0;left: 50%;z-index: 0;}#sk-container-id-1 div.sk-serial {display: flex;flex-direction: column;align-items: center;background-color: white;padding-right: 0.2em;padding-left: 0.2em;position: relative;}#sk-container-id-1 div.sk-item {position: relative;z-index: 1;}#sk-container-id-1 div.sk-parallel {display: flex;align-items: stretch;justify-content: center;background-color: white;position: relative;}#sk-container-id-1 div.sk-item::before, #sk-container-id-1 div.sk-parallel-item::before {content: \"\";position: absolute;border-left: 1px solid gray;box-sizing: border-box;top: 0;bottom: 0;left: 50%;z-index: -1;}#sk-container-id-1 div.sk-parallel-item {display: flex;flex-direction: column;z-index: 1;position: relative;background-color: white;}#sk-container-id-1 div.sk-parallel-item:first-child::after {align-self: flex-end;width: 50%;}#sk-container-id-1 div.sk-parallel-item:last-child::after {align-self: flex-start;width: 50%;}#sk-container-id-1 div.sk-parallel-item:only-child::after {width: 0;}#sk-container-id-1 div.sk-dashed-wrapped {border: 1px dashed gray;margin: 0 0.4em 0.5em 0.4em;box-sizing: border-box;padding-bottom: 0.4em;background-color: white;}#sk-container-id-1 div.sk-label label {font-family: monospace;font-weight: bold;display: inline-block;line-height: 1.2em;}#sk-container-id-1 div.sk-label-container {text-align: center;}#sk-container-id-1 div.sk-container {/* jupyter's `normalize.less` sets `[hidden] { display: none; }` but bootstrap.min.css set `[hidden] { display: none !important; }` so we also need the `!important` here to be able to override the default hidden behavior on the sphinx rendered scikit-learn.org. See: https://github.com/scikit-learn/scikit-learn/issues/21755 */display: inline-block !important;position: relative;}#sk-container-id-1 div.sk-text-repr-fallback {display: none;}</style><div id=\"sk-container-id-1\" class=\"sk-top-container\"><div class=\"sk-text-repr-fallback\"><pre>GridSearchCV(cv=5, estimator=DecisionTreeRegressor(),\n",
       "             param_grid={&#x27;max_depth&#x27;: [None, 5, 10, 15],\n",
       "                         &#x27;min_samples_leaf&#x27;: [1, 2, 4],\n",
       "                         &#x27;min_samples_split&#x27;: [2, 5, 10]},\n",
       "             scoring=&#x27;neg_mean_squared_error&#x27;)</pre><b>In a Jupyter environment, please rerun this cell to show the HTML representation or trust the notebook. <br />On GitHub, the HTML representation is unable to render, please try loading this page with nbviewer.org.</b></div><div class=\"sk-container\" hidden><div class=\"sk-item sk-dashed-wrapped\"><div class=\"sk-label-container\"><div class=\"sk-label sk-toggleable\"><input class=\"sk-toggleable__control sk-hidden--visually\" id=\"sk-estimator-id-1\" type=\"checkbox\" ><label for=\"sk-estimator-id-1\" class=\"sk-toggleable__label sk-toggleable__label-arrow\">GridSearchCV</label><div class=\"sk-toggleable__content\"><pre>GridSearchCV(cv=5, estimator=DecisionTreeRegressor(),\n",
       "             param_grid={&#x27;max_depth&#x27;: [None, 5, 10, 15],\n",
       "                         &#x27;min_samples_leaf&#x27;: [1, 2, 4],\n",
       "                         &#x27;min_samples_split&#x27;: [2, 5, 10]},\n",
       "             scoring=&#x27;neg_mean_squared_error&#x27;)</pre></div></div></div><div class=\"sk-parallel\"><div class=\"sk-parallel-item\"><div class=\"sk-item\"><div class=\"sk-label-container\"><div class=\"sk-label sk-toggleable\"><input class=\"sk-toggleable__control sk-hidden--visually\" id=\"sk-estimator-id-2\" type=\"checkbox\" ><label for=\"sk-estimator-id-2\" class=\"sk-toggleable__label sk-toggleable__label-arrow\">estimator: DecisionTreeRegressor</label><div class=\"sk-toggleable__content\"><pre>DecisionTreeRegressor()</pre></div></div></div><div class=\"sk-serial\"><div class=\"sk-item\"><div class=\"sk-estimator sk-toggleable\"><input class=\"sk-toggleable__control sk-hidden--visually\" id=\"sk-estimator-id-3\" type=\"checkbox\" ><label for=\"sk-estimator-id-3\" class=\"sk-toggleable__label sk-toggleable__label-arrow\">DecisionTreeRegressor</label><div class=\"sk-toggleable__content\"><pre>DecisionTreeRegressor()</pre></div></div></div></div></div></div></div></div></div></div>"
      ],
      "text/plain": [
       "GridSearchCV(cv=5, estimator=DecisionTreeRegressor(),\n",
       "             param_grid={'max_depth': [None, 5, 10, 15],\n",
       "                         'min_samples_leaf': [1, 2, 4],\n",
       "                         'min_samples_split': [2, 5, 10]},\n",
       "             scoring='neg_mean_squared_error')"
      ]
     },
     "execution_count": 18,
     "metadata": {},
     "output_type": "execute_result"
    }
   ],
   "source": [
    "# Instantiate Decision Tree model\n",
    "decision_tree_model = DecisionTreeRegressor()\n",
    "\n",
    "# Perform GridSearchCV\n",
    "grid_search = GridSearchCV(decision_tree_model, param_grid, cv=5, scoring='neg_mean_squared_error')\n",
    "grid_search.fit(X_train, y_train)"
   ]
  },
  {
   "cell_type": "code",
   "execution_count": 19,
   "metadata": {},
   "outputs": [
    {
     "name": "stdout",
     "output_type": "stream",
     "text": [
      "Best Hyperparameters: {'max_depth': 5, 'min_samples_leaf': 1, 'min_samples_split': 2}\n"
     ]
    }
   ],
   "source": [
    "# Get the best parameters\n",
    "best_params = grid_search.best_params_\n",
    "print(\"Best Hyperparameters:\", best_params)"
   ]
  },
  {
   "cell_type": "code",
   "execution_count": 20,
   "metadata": {},
   "outputs": [],
   "source": [
    "# Use the best model for prediction\n",
    "best_decision_tree_model = grid_search.best_estimator_\n",
    "y_pred_best_decision_train = best_decision_tree_model.predict(X_train)\n",
    "y_pred_best_decision_test = best_decision_tree_model.predict(X_test)\n"
   ]
  },
  {
   "cell_type": "code",
   "execution_count": 21,
   "metadata": {},
   "outputs": [
    {
     "name": "stdout",
     "output_type": "stream",
     "text": [
      "Decision Tree RMSE:  2.529359642490508\n",
      "Decision Tree R-squared:  0.9267236282006964\n"
     ]
    }
   ],
   "source": [
    "# Evaluate the performance of the train models\n",
    "print(\"Decision Tree RMSE: \", np.sqrt(metrics.mean_squared_error(y_train, y_pred_best_decision_train)))\n",
    "print(\"Decision Tree R-squared: \", metrics.r2_score(y_train, y_pred_best_decision_train))"
   ]
  },
  {
   "cell_type": "markdown",
   "metadata": {},
   "source": [
    "<strong>Decision Tree RMSE (Root Mean Squared Error) on Training Data: 1.7899</strong>  \n",
    "The RMSE measures the average magnitude of the errors between predicted and actual values. A lower RMSE indicates better model performance. In this case, the training RMSE is relatively low at 1.7899, suggesting that the model is doing a good job of fitting the training data.\n",
    "\n",
    "<strong>Decision Tree R-squared: 0.9633</strong>  \n",
    "R-squared (or coefficient of determination) represents the proportion of the variance in the dependent variable (target) that is predictable from the independent variables (features). A higher R-squared value (closer to 1) indicates a better fit. The R-squared of 0.9633 for the training set is quite high, suggesting that the model explains a significant amount of the variance in the training data."
   ]
  },
  {
   "cell_type": "code",
   "execution_count": 22,
   "metadata": {},
   "outputs": [
    {
     "name": "stdout",
     "output_type": "stream",
     "text": [
      "Decision Tree RMSE:  4.053774675167974\n",
      "Decision Tree R-squared:  0.7776067862538305\n"
     ]
    }
   ],
   "source": [
    "# Evaluate the performance of the test models\n",
    "print(\"Decision Tree RMSE: \", np.sqrt(metrics.mean_squared_error(y_test, y_pred_best_decision_test)))\n",
    "print(\"Decision Tree R-squared: \", metrics.r2_score(y_test, y_pred_best_decision_test))"
   ]
  },
  {
   "cell_type": "markdown",
   "metadata": {},
   "source": [
    "<strong>Decision Tree RMSE: 3.9436</strong>  \n",
    "The testing RMSE is higher than the training RMSE, which is expected. It measures the average magnitude of errors on the testing set. The RMSE of 3.9436 indicates that, on average, the model's predictions on the test data have larger errors compared to the training data.\n",
    "\n",
    "<strong>Decision Tree R-squared: 0.7895</strong>  \n",
    "The R-squared value for the testing set is 0.7895. While still relatively high, it is lower than the R-squared for the training set. This is also expected, as models often generalize less well to new, unseen data. The lower R-squared on the testing set suggests that the model's performance on unseen data is not as strong as on the training data.\n",
    "\n",
    "- Overall, the model seems to generalize well to the testing set, with a high R-squared and a relatively low RMSE."
   ]
  },
  {
   "cell_type": "markdown",
   "metadata": {},
   "source": [
    "# Summary \n",
    "The Decision Tree model, after hyperparameter tuning, outperforms the Linear Regression model on the testing set.\n",
    "##### Comparison on the testing set\n",
    "- Linear Regression RMSE: 4.548, R-squared: 0.720.\n",
    "- Decision Tree RMSE: 3.944, R-squared: 0.790.\n"
   ]
  }
 ],
 "metadata": {
  "kernelspec": {
   "display_name": "Python 3",
   "language": "python",
   "name": "python3"
  },
  "language_info": {
   "codemirror_mode": {
    "name": "ipython",
    "version": 3
   },
   "file_extension": ".py",
   "mimetype": "text/x-python",
   "name": "python",
   "nbconvert_exporter": "python",
   "pygments_lexer": "ipython3",
   "version": "3.11.4"
  }
 },
 "nbformat": 4,
 "nbformat_minor": 2
}
